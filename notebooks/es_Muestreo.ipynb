{
 "metadata": {
  "language_info": {
   "codemirror_mode": {
    "name": "ipython",
    "version": 3
   },
   "file_extension": ".py",
   "mimetype": "text/x-python",
   "name": "python",
   "nbconvert_exporter": "python",
   "pygments_lexer": "ipython3",
   "version": 3
  },
  "orig_nbformat": 2
 },
 "nbformat": 4,
 "nbformat_minor": 2,
 "cells": [
  {
   "source": [
    "# Muestreo de datos: experimento, adaptar el de árboles diseñado para presencialidad\n",
    "\n",
    "[Worked Example](https://drive.google.com/open?id=1fdyVRx6VhCUOhuho3UAfMBdw3a1DZV0U)"
   ],
   "cell_type": "markdown",
   "metadata": {}
  }
 ]
}