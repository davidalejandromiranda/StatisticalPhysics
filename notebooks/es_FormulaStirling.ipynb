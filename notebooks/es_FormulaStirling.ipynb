{
 "metadata": {
  "language_info": {
   "codemirror_mode": {
    "name": "ipython",
    "version": 3
   },
   "file_extension": ".py",
   "mimetype": "text/x-python",
   "name": "python",
   "nbconvert_exporter": "python",
   "pygments_lexer": "ipython3",
   "version": "3.8.5"
  },
  "orig_nbformat": 2,
  "kernelspec": {
   "name": "python385jvsc74a57bd011c30410751dd0361e21175229341d7062346646289fac6551f885568f233392",
   "display_name": "Python 3.8.5 64-bit ('nano2d': conda)"
  }
 },
 "nbformat": 4,
 "nbformat_minor": 2,
 "cells": [
  {
   "source": [
    "<h1 align=\"center\">Estadística de números grandes: fórmula de Stirling.</h1>\n",
    "<div align=\"right\">David A. Miranda, PhD<br>2021</div>"
   ],
   "cell_type": "markdown",
   "metadata": {}
  }
 ]
}