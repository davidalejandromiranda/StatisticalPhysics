{
 "metadata": {
  "language_info": {
   "codemirror_mode": {
    "name": "ipython",
    "version": 3
   },
   "file_extension": ".py",
   "mimetype": "text/x-python",
   "name": "python",
   "nbconvert_exporter": "python",
   "pygments_lexer": "ipython3",
   "version": 3
  },
  "orig_nbformat": 2
 },
 "nbformat": 4,
 "nbformat_minor": 2,
 "cells": [
  {
   "source": [
    "# Juego de Parques\n",
    "[Worked Example](https://drive.google.com/file/d/1lEOOY1S3kaiWMycYAehgCfuCD46l7A0X/view?usp=sharing)"
   ],
   "cell_type": "markdown",
   "metadata": {}
  }
 ]
}