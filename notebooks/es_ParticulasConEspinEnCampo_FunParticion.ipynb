{
 "cells": [
  {
   "cell_type": "markdown",
   "source": [
    "<h1 align=\"center\">Magnetización de un material paramagnético</h1>\n",
    "<div align=\"right\">David A. Miranda, PhD<br>2021</div>"
   ],
   "metadata": {}
  },
  {
   "cell_type": "markdown",
   "source": [
    "## 1. Importar librería"
   ],
   "metadata": {}
  },
  {
   "cell_type": "code",
   "execution_count": 3,
   "source": [
    "import numpy as np \n",
    "import matplotlib.pyplot as plt\n",
    "from scipy import constants as ct"
   ],
   "outputs": [],
   "metadata": {}
  },
  {
   "cell_type": "markdown",
   "source": [
    "## 2. Planteamiento del problema\n",
    "\n",
    "Sea una sustancia [paramagnética](https://es.wikipedia.org/wiki/Paramagnetismo) conformada por $N$ átomos magnéticos por unidad de volumen. Si cada átomo tiene espín $1/2$, momento magnético intrínseco $\\mu$ y la sustancia está en contacto con un reservorio a temperatura absoluta $T$, ¿cuánto es la magnetización $\\bar{M} = N\\bar{\\mu}_B$ de la sustancia en presencia de un campo magnético externo $\\vec{B}$?\n",
    "\n",
    "$$\\mu = g \\frac{q_e}{2 m_e}S$$\n",
    "\n",
    "Donde $g_s = 2.00231930436$, $q_e$, la carga del electrón, $m_e$, la masa del electrón y $S=\\hbar/2$, el momento espín.  $\\bar{\\mu}_B$ es el momento magnético en presencia del campo externo $\\vec{B}$."
   ],
   "metadata": {}
  },
  {
   "cell_type": "markdown",
   "source": [
    "## 3. Cálculo de la magnetización empleando la función de partición\n",
    "\n",
    "Cada átomo tiene dos posibles estados, uno con energía $E_+ = - \\mu B$ y otro con energía $E_- = \\mu B$, por lo tanto, la función de partición $Z = e^{-\\beta E_+} + e^{-\\beta E_-}$ y la probabilidad para cada estado, $P_i = \\frac{e^{-\\beta E_i}}{Z}$.\n",
    "\n",
    "El valor esperado del momento magnético en presencia de un campo externo está dado por:\n",
    "\n",
    "$$\\bar{\\mu}_B = \\mu P_+ - \\mu P_- = \\mu \\frac{e^{-\\beta E_+}- e^{-\\beta E_-}}{Z} = \\mu \\quad tanh(\\beta \\mu B)$$\n",
    "\n",
    "Donde $\\beta = (k_B T)^{-1}$.\n",
    "\n",
    "El valor esperado para la magnetización está dado por:\n",
    "\n",
    "$$\\bar{M} = N\\bar{\\mu}_B = N \\mu \\quad tanh(\\beta \\mu B)$$\n",
    "\n",
    "Ver [explicación](https://youtu.be/iJ5rMgt85S4)."
   ],
   "metadata": {}
  },
  {
   "cell_type": "markdown",
   "source": [
    "## 4. Definiciones, métodos y gráficas\n",
    "\n",
    "### 4.1. Definiciones"
   ],
   "metadata": {}
  },
  {
   "cell_type": "code",
   "execution_count": 5,
   "source": [
    "# Agregue las definiciones faltantes\n",
    "N = \n",
    "B =   # T\n",
    "T =  # K\n",
    "g = 2.00231930436\n",
    "S = ct.hbar/2 # J s\n",
    "mu = g * ct.e * S / (2 * ct.m_e)\n",
    "kB = ct.k"
   ],
   "outputs": [],
   "metadata": {}
  },
  {
   "cell_type": "markdown",
   "source": [
    "### 4.2. Métodos"
   ],
   "metadata": {}
  },
  {
   "cell_type": "code",
   "execution_count": null,
   "source": [
    "def magnetization(T, B, mu, N):\n",
    "    ## Escriba aquí su Script para calcular el valor esperado de la magnetización"
   ],
   "outputs": [],
   "metadata": {}
  },
  {
   "cell_type": "markdown",
   "source": [
    "### 4.3. Gráficas de la magnetización"
   ],
   "metadata": {}
  },
  {
   "cell_type": "code",
   "execution_count": null,
   "source": [
    "# Escriba su Script para graficar la magnetización en función del campo magnético"
   ],
   "outputs": [],
   "metadata": {}
  },
  {
   "cell_type": "code",
   "execution_count": null,
   "source": [
    "# Escriba su Script para graficar la magnetización en función de la temperatura"
   ],
   "outputs": [],
   "metadata": {}
  },
  {
   "cell_type": "code",
   "execution_count": null,
   "source": [
    "# Escriba su Script para graficar la magnetización en función del cociente entre \n",
    "# la energía y la temperatura"
   ],
   "outputs": [],
   "metadata": {}
  },
  {
   "cell_type": "markdown",
   "source": [
    "### 4.4. Suceptibilidad magnética y ley de Curie\n",
    "\n",
    "Para campos magnéticos pequeños, tales que $\\mu B \\ll k_B T$, el valor esperado de la magnetización es proporcional al campo magnético, es decir, $\\bar{M}=\\chi B$, donde $\\chi$ se conoce como suceptiblidad magnética. La dependencia de la temperatura de la suceptiblidad magnética se conoce como ley de Curie,\n",
    "\n",
    "$$\\chi = \\frac{N\\mu^2}{k_B T}$$"
   ],
   "metadata": {}
  },
  {
   "cell_type": "code",
   "execution_count": null,
   "source": [
    "# Identifique, en la gráfica de magnetización en función de $\\frac{\\mu B}{k_B T}$, \n",
    "# la zona donde se cumple la ley de Curie."
   ],
   "outputs": [],
   "metadata": {}
  },
  {
   "cell_type": "markdown",
   "source": [
    "## 5. Preguntas de autoexplicación\n",
    "\n",
    "5.1. Describa el método escrito para cálcular la magnetización.  Tenga en cuenta los parámetros de entrada y salida del mismo.\n",
    "\n",
    "5.2. En las gráficas del ítem 4.3 para la magnetización $\\bar{M}$ en función del campo magnético $B$, la temperatura $T$ y el cociente $\\frac{\\mu B}{k_B T}$, ¿qué ventajas y desventajas tiene cada grafica comparada con las otras?\n",
    "\n",
    "5.3. Describa cómo la gráfica del ítem 4.4 permite observar la ley de Curie."
   ],
   "metadata": {}
  },
  {
   "cell_type": "markdown",
   "source": [
    "End!"
   ],
   "metadata": {}
  }
 ],
 "metadata": {
  "orig_nbformat": 4,
  "language_info": {
   "name": "python",
   "version": "3.8.8",
   "mimetype": "text/x-python",
   "codemirror_mode": {
    "name": "ipython",
    "version": 3
   },
   "pygments_lexer": "ipython3",
   "nbconvert_exporter": "python",
   "file_extension": ".py"
  },
  "kernelspec": {
   "name": "python3",
   "display_name": "Python 3.8.8 64-bit"
  },
  "interpreter": {
   "hash": "30eb2b6f3977a48e3f12d81904048f23a4983d9da51d6a4858f131ded924b541"
  }
 },
 "nbformat": 4,
 "nbformat_minor": 2
}