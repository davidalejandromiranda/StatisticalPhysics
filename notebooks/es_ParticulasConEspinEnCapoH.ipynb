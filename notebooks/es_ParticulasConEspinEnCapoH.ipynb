{
 "metadata": {
  "language_info": {
   "codemirror_mode": {
    "name": "ipython",
    "version": 3
   },
   "file_extension": ".py",
   "mimetype": "text/x-python",
   "name": "python",
   "nbconvert_exporter": "python",
   "pygments_lexer": "ipython3",
   "version": 3
  },
  "orig_nbformat": 2
 },
 "nbformat": 4,
 "nbformat_minor": 2,
 "cells": [
  {
   "source": [
    "<h1 align=\"center\">Partículas con espín 1/2 sometidas a un campo magnético externo H.</h1>\n",
    "<div align=\"right\">David A. Miranda, PhD<br>2021</div>"
   ],
   "cell_type": "markdown",
   "metadata": {}
  }
 ]
}