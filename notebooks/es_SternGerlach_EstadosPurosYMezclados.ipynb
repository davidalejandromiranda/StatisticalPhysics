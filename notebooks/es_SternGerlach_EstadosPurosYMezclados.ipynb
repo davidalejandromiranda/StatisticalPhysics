{
 "cells": [
  {
   "cell_type": "markdown",
   "metadata": {},
   "source": [
    "<h1 align=\"center\">Estados puros y mezclados de un haz de partículas cuánticas con espín 1/2 en presencia de un campo magnético en la configuración de Stern-Gerlach</h1>\n",
    "<div align=\"right\">David A. Miranda, PhD<br>2022</div>"
   ]
  },
  {
   "cell_type": "markdown",
   "metadata": {},
   "source": [
    "## 1. Importar librerías"
   ]
  },
  {
   "cell_type": "code",
   "execution_count": null,
   "metadata": {},
   "outputs": [],
   "source": [
    "import numpy as np \n",
    "import matplotlib.pyplot as plt \n",
    "import pandas as pd"
   ]
  },
  {
   "cell_type": "markdown",
   "metadata": {},
   "source": [
    "## 2. Planteamiento del problema\n",
    "\n",
    "Sea un haz de partículas cuánticas con espín 1/2 que pasa a través de un campo magnético en la configuración de Stern-Gerlach, donde el gradiente de campo magnético está orientado en la dirección $z$ y el haz se propaga en la dirección $x$.\n",
    "\n",
    "\n",
    "\n",
    "**a)** Describa cómo obtener un estado puro y de ejemplos.\n",
    "\n",
    "**b)** Para un haz conformado por un estado puro, ¿cuál es el efecto de rotar el imán alrededor del eje $x$? Muestre un ejemplo.\n",
    "\n",
    "**c)** Describa cómo obtener un estado mezclado de ejemplos.\n",
    "\n",
    "**d)** Al rotar el imán alrededor del eje $x$ para un haz conformado por estados mezclados, ¿se observa lo mismo que en un estado puro? Explique y de un ejemplo."
   ]
  }
 ],
 "metadata": {
  "language_info": {
   "name": "python"
  },
  "orig_nbformat": 4
 },
 "nbformat": 4,
 "nbformat_minor": 2
}
