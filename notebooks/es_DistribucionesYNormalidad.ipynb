{
 "metadata": {
  "language_info": {
   "codemirror_mode": {
    "name": "ipython",
    "version": 3
   },
   "file_extension": ".py",
   "mimetype": "text/x-python",
   "name": "python",
   "nbconvert_exporter": "python",
   "pygments_lexer": "ipython3",
   "version": "3.8.5-final"
  },
  "orig_nbformat": 2,
  "kernelspec": {
   "name": "python3",
   "display_name": "Python 3.8.5 64-bit ('nano2d': conda)",
   "metadata": {
    "interpreter": {
     "hash": "11c30410751dd0361e21175229341d7062346646289fac6551f885568f233392"
    }
   }
  }
 },
 "nbformat": 4,
 "nbformat_minor": 2,
 "cells": [
  {
   "source": [
    "# Distribuciones y Normalidad\n",
    "[Worked Example](https://drive.google.com/file/d/1oucWfDP2BVa5et_gOOYJsVSvo8rq5n6M/view)\n",
    "\n",
    "¿Por qué es importante probar la normalidad de los datos? [Wikipedia en Inglés](https://en.wikipedia.org/wiki/Normality_test)"
   ],
   "cell_type": "markdown",
   "metadata": {}
  },
  {
   "cell_type": "code",
   "execution_count": null,
   "metadata": {},
   "outputs": [],
   "source": [
    "import numpy as np\n",
    "import pandas as pd\n",
    "import matplotlib.pyplot as plt\n",
    "from scipy import stats"
   ]
  },
  {
   "cell_type": "code",
   "execution_count": null,
   "metadata": {},
   "outputs": [],
   "source": [
    "N = 100\n",
    "xMin = 115 # mmHg\n",
    "xMax = 125 # mmHg\n",
    "\n",
    "xMean = 120 # mmHg\n",
    "xVar  =   5 # mmHg"
   ]
  },
  {
   "cell_type": "code",
   "execution_count": null,
   "metadata": {},
   "outputs": [],
   "source": [
    "x1 = np.random.uniform(low=xMin, high=xMax, size=N)\n",
    "x2 = np.random.normal(loc=xMean, scale=xVar/2.0, size=N)\n",
    "x3 = np.random.poisson(size=N)\n",
    "x3 = (x3 - x3.mean()) + xMean\n",
    "\n",
    "x1 = np.round(x1, decimals=2)\n",
    "x2 = np.round(x2, decimals=2)\n",
    "x3 = np.round(x3, decimals=2)\n",
    "\n",
    "data = pd.DataFrame({'x1':x1, 'x2':x2, 'x3':x3})\n",
    "k = 0\n",
    "Nk = len(data.columns)\n",
    "\n",
    "for c in data.columns:\n",
    "    k += 1\n",
    "    plt.subplot(2,Nk,k)\n",
    "    ax = data[c].plot(style='.')\n",
    "    ax.set_xlabel('Dato')\n",
    "    ax.set_ylabel(u'Presión [mmHg]')\n",
    "    plt.title(c)\n",
    "\n",
    "    plt.subplot(2,Nk,k+Nk)\n",
    "    ax = data[c].plot.hist()\n",
    "    ax.set_xlabel(u'Presión [mmHg]')\n",
    "    \n",
    "    print '---'\n",
    "    print c\n",
    "    # Shapiro-Wilk -> W and pvalue #\n",
    "    SW = stats.shapiro(data[c])\n",
    "    print '\\tShapiro -Wilk test'\n",
    "    print '\\t  W:', SW[0]\n",
    "    print '\\t  p:', SW[1]\n",
    "    # Kolmogorov–Smirnov -> statistic & pvalue#\n",
    "    KS = stats.kstest(data[c],'norm')\n",
    "    print '\\tKolmogorov–Smirnov test'\n",
    "    print '\\t  Statistic:', KS.statistic\n",
    "    print '\\t  p:', KS.pvalue\n",
    "    # Anderson–Darling #\n",
    "    AD = stats.anderson(data[c], dist='norm')\n",
    "    print '\\tAnderson–Darling test'\n",
    "    print '\\t  Statistic:', AD.statistic\n",
    "    print '\\t  Critical values:', AD.critical_values\n",
    "    print '\\t  Significance level:', AD.significance_level"
   ]
  }
 ]
}