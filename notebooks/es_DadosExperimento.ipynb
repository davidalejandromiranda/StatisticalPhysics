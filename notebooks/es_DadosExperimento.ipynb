{
 "metadata": {
  "language_info": {
   "codemirror_mode": {
    "name": "ipython",
    "version": 3
   },
   "file_extension": ".py",
   "mimetype": "text/x-python",
   "name": "python",
   "nbconvert_exporter": "python",
   "pygments_lexer": "ipython3",
   "version": 3
  },
  "orig_nbformat": 2
 },
 "nbformat": 4,
 "nbformat_minor": 2,
 "cells": [
  {
   "source": [
    "<h1 align=\"center\">Descripción de un sistema formado por dados.</h1>\n",
    "<div align=\"right\">David A. Miranda, PhD<br>2021</div>"
   ],
   "cell_type": "markdown",
   "metadata": {}
  },
  {
   "cell_type": "code",
   "execution_count": null,
   "metadata": {},
   "outputs": [],
   "source": [
    "p = np.floor(np.random.uniform(low=1, high=7, size=1000))\n",
    "plt.plot(p, 'o', alpha=0.5)"
   ]
  }
 ]
}