{
 "cells": [
  {
   "cell_type": "markdown",
   "metadata": {},
   "source": [
    "<h1 align=\"center\">Momentos de una variable aleatoria</h1>\n",
    "<div align=\"right\">David A. Miranda, PhD<br>2022</div>"
   ]
  },
  {
   "cell_type": "markdown",
   "metadata": {},
   "source": [
    "## 1. Importar librerías"
   ]
  },
  {
   "cell_type": "code",
   "execution_count": 38,
   "metadata": {},
   "outputs": [],
   "source": [
    "import numpy as np\n",
    "import pandas as pd\n",
    "import matplotlib.pyplot as plt"
   ]
  },
  {
   "cell_type": "markdown",
   "metadata": {},
   "source": [
    "## 2. Planteamiento del problema\n",
    "\n",
    "Sean unos datos obtenidos de muestrear (en este caso la muestra se toma de una simulaciíon) la presión arterial sistólica de un cierto grupo de personas. Determine la distribución de frecuencias de la presión artelial sistólica para la muestra incluida en el estudio y realice una descripción estadística de la misma emplenado los primeros momentos centrales."
   ]
  },
  {
   "cell_type": "markdown",
   "metadata": {},
   "source": [
    "### 2.1. Distribución de frecuencia de una variable aleatoria\n",
    "\n",
    "La distribución de frecuencia se puede representar como una tabla (o gráfica) donde se muestra la frecuencia de la ocurrencia de ciertos resultados en una muestra, agrupados en ciertos intervalos. En este contexto, muestra se refiere a un conjunto de datos tomado de un conjunto mayor. Además, una variable aleatoria $X$ representa un fenómeno donde las observaciones corresponden con los valores $x$; en tal sentido, para una cierta variable aleatoria $X$, como la de este ejemplo, se puede tomar una muestra $\\{x_1, x_2, ..., x_N\\}$ que, en este caso, sería la presión arterial sistólica.\n",
    "\n",
    "Para construir la distribución de frecuencias es necesario determinar el número de observaciones $x$ que caen en cada intervalo entre $x_k$ y $x_k + \\Delta x_k$; cada intervalo se identificará con un valor $\\chi_k$, con $k<N$, tal que $\\chi_k \\in [x_k, x_k+\\Delta x_k)$. Note que se asume que las observaciones asociadas a un cierto $\\chi_k$ corresponden con el conjunto de valores $\\{x_{k1}, x_{k2}, ..., x_{M_k}\\}$ dentro del intervalo $[x_k, x_k + \\Delta x_k)$. En consecuencia, la distribución de frecuencia es la relación formada por el valor representativo $\\chi_k$ (se suele tomar el menor valor del intervalo) y el número de observaciones $M_k$ en el conjunto $\\{x_{k1}, x_{k2}, ..., x_{M_k}\\}$, es decir, $\\{ (\\chi_k, M_k) \\}$. Por simplicidad, se define un ancho de intervalo uniforme de la forma,\n",
    "\n",
    "$$ \\Delta x_k = \\Delta x = \\frac{x_{máximo} - x_{mínimo}}{N}$$\n",
    "\n",
    "Dado que se requiere conocer la probabilidad de ocurrencia $p(\\chi_k)$ de un intervalo, esta se puede aproximar como,\n",
    "\n",
    "$$p(\\chi_k) \\approx \\frac{M_k}{N}$$\n"
   ]
  },
  {
   "cell_type": "markdown",
   "metadata": {},
   "source": [
    "### 2.2. Momentos de una variable aleatoria\n",
    "\n",
    "Los momentos de una variable aleatoria $X$ se pueden definir alrededor del origen o de la media, siendo estos últimos los momentos centrales de la variable aleatoria. \n",
    "\n",
    "#### 2.2.1. Momentos alrededor del origen\n",
    "\n",
    "De esta manera, el r-ésimo momento $\\mu'_r$ de la variable aleatoria $X$, alrededor del origen, se define como:\n",
    "\n",
    "$$\\mu'_r = E(X^r) = \\langle x^r \\rangle = \\sum_x x^r p(x)$$\n",
    "\n",
    "Donde $x$ son los valores que toma la variable aleatoria $X$ en las diferentes observaciones realizadas y $p(x)$ es la probabilidad que $X$ tome un valor entre $x$ y $x+dx$ al realizar una cierta observación.\n",
    "\n",
    "#### 2.2.2. Momentos centrales\n",
    "\n",
    "El r-ésimo momento central $\\mu_r$ de una variable aleatoria $X$ se calcula alrededor de la media $\\mu = \\mu'_1 = \\langle x \\rangle$,\n",
    "\n",
    "$$\\mu_r = E[(X - \\mu'_1)^r] = \\langle (x-\\mu)^r \\rangle = \\sum_x (x - \\mu)^r p(x)$$\n",
    "\n",
    "#### 2.2.3. Varianza y desviación estándar\n",
    "\n",
    "La varianza $\\sigma^2$ corresponde con el segundo momento central y la desviación estándar $\\sigma$, con la raiz cuadrada de la varianza.\n",
    "\n",
    "$$\\sigma^2 = var(X) = \\mu_2 = E[(X-\\mu)^2] = \\langle (x - \\mu)^2 \\rangle = \\sum_x (x-\\mu)^2 p(x)$$\n",
    "\n",
    "$$\\sigma = std(X) = \\sqrt{var(X)}$$"
   ]
  },
  {
   "cell_type": "markdown",
   "metadata": {},
   "source": [
    "## 3. Definiciones y métodos"
   ]
  },
  {
   "cell_type": "code",
   "execution_count": 39,
   "metadata": {},
   "outputs": [],
   "source": [
    "N = 400 # Número de pacientes\n",
    "p_mean = 120\n",
    "p_std = 2.5\n",
    "bandas = 50 # Número de bandas para el histograma "
   ]
  },
  {
   "cell_type": "code",
   "execution_count": 40,
   "metadata": {},
   "outputs": [],
   "source": [
    "def simulate_arterial_pressure(mean_pressure=p_mean, std_pressure=p_std, size=N, decimals=1):\n",
    "    normal_dist = np.random.normal(\n",
    "            loc=mean_pressure, \n",
    "            scale=std_pressure, \n",
    "            size=size) # Distribución normal -> Gaussiana\n",
    "    presion = np.round(normal_dist, decimals=decimals) # Redondeo \n",
    "    paciente = np.arange(N) + 1 # Identificación de cada paciente\n",
    "    data = pd.DataFrame({'Presión':presion, 'Paciente':paciente}) # Datos en un DataFrame de Pandas\n",
    "    #data.to_clipboard()  # Con este comando se dejan los datos en el clipboard y pueden ser pegados en otra app\n",
    "    return data"
   ]
  },
  {
   "cell_type": "code",
   "execution_count": 41,
   "metadata": {},
   "outputs": [],
   "source": [
    "def manual_hist(data, bandas):\n",
    "    presion = data['Presión'].to_numpy()\n",
    "    x  = []\n",
    "    ys = np.zeros(bandas)\n",
    "    x0 = presion.min()\n",
    "    for k in range(bandas):\n",
    "        deltaB = (presion.max() - presion.min())/float(bandas)\n",
    "        xk = presion.min() + (k+1)*deltaB\n",
    "        ys[k] = np.sum((presion >= x0) & (presion < xk))\n",
    "        x.append(xk)\n",
    "        x0 = xk\n",
    "    ys[-1] += np.sum(presion == presion.max())\n",
    "    return x, ys"
   ]
  },
  {
   "cell_type": "markdown",
   "metadata": {},
   "source": [
    "## 4. Resultados y figuras"
   ]
  },
  {
   "cell_type": "code",
   "execution_count": 42,
   "metadata": {},
   "outputs": [],
   "source": [
    "data = simulate_arterial_pressure()\n",
    "presion = data['Presión'].to_numpy()\n",
    "x, ys = manual_hist(data, bandas)"
   ]
  },
  {
   "cell_type": "markdown",
   "metadata": {},
   "source": [
    "### 4.1. Media"
   ]
  },
  {
   "cell_type": "code",
   "execution_count": 43,
   "metadata": {},
   "outputs": [
    {
     "name": "stdout",
     "output_type": "stream",
     "text": [
      "Media por cálculo:\t120.2 [mm Hg],\tnumpy: 120.0 [mm Hg]\n"
     ]
    }
   ],
   "source": [
    "p = ys / float(N)  # Probabilidad para cada banda\n",
    "media_calculo = sum(x*p)\n",
    "media_numpy   = presion.mean()\n",
    "print('Media por cálculo:\\t%0.1f [mm Hg],\\tnumpy: %0.1f [mm Hg]' % (media_calculo, media_numpy))"
   ]
  },
  {
   "cell_type": "markdown",
   "metadata": {},
   "source": [
    "### 4.2. Varianza"
   ]
  },
  {
   "cell_type": "code",
   "execution_count": 44,
   "metadata": {},
   "outputs": [
    {
     "name": "stdout",
     "output_type": "stream",
     "text": [
      "Varianza por cálculo:\t5.7 [mm Hg],\tnumpy: 5.7 [mm Hg]\n"
     ]
    }
   ],
   "source": [
    "varianza_calculo = np.sum((x - media_calculo)**2 * p)\n",
    "varianza_numpy   = presion.var()\n",
    "print('Varianza por cálculo:\\t%0.1f [mm Hg],\\tnumpy: %0.1f [mm Hg]' % (varianza_calculo, varianza_numpy))"
   ]
  },
  {
   "cell_type": "markdown",
   "metadata": {},
   "source": [
    "### 4.3. Desviación estándar"
   ]
  },
  {
   "cell_type": "code",
   "execution_count": 45,
   "metadata": {},
   "outputs": [
    {
     "name": "stdout",
     "output_type": "stream",
     "text": [
      "Desviación estándar:\t2.4 [mm Hg],\tnumpy: 2.4 [mm Hg]\n"
     ]
    }
   ],
   "source": [
    "std_calculo = np.sqrt(varianza_calculo)\n",
    "std_numpy   = presion.std()\n",
    "print('Desviación estándar:\\t%0.1f [mm Hg],\\tnumpy: %0.1f [mm Hg]' % (std_calculo, std_numpy))"
   ]
  },
  {
   "cell_type": "markdown",
   "metadata": {},
   "source": [
    "### 4.4. Descripción estadística usando Pandas"
   ]
  },
  {
   "cell_type": "code",
   "execution_count": 46,
   "metadata": {},
   "outputs": [
    {
     "data": {
      "text/plain": [
       "count    400.000000\n",
       "mean     120.041000\n",
       "std        2.395227\n",
       "min      112.800000\n",
       "25%      118.500000\n",
       "50%      119.900000\n",
       "75%      121.700000\n",
       "max      129.200000\n",
       "Name: Presión, dtype: float64"
      ]
     },
     "execution_count": 46,
     "metadata": {},
     "output_type": "execute_result"
    }
   ],
   "source": [
    "data['Presión'].describe()"
   ]
  },
  {
   "cell_type": "markdown",
   "metadata": {},
   "source": [
    "### 4.5. Figuras"
   ]
  },
  {
   "cell_type": "code",
   "execution_count": 47,
   "metadata": {},
   "outputs": [
    {
     "data": {
      "image/png": "[encoded data removed]",
      "text/plain": [
       "<Figure size 1800x1200 with 2 Axes>"
      ]
     },
     "metadata": {
      "needs_background": "light"
     },
     "output_type": "display_data"
    }
   ],
   "source": [
    "plt.figure(dpi=300)\n",
    "\n",
    "#### Histograma manaual ####\n",
    "plt.subplot(121)\n",
    "plt.bar(x, ys, alpha=0.6)\n",
    "plt.ylabel('Frecuencia')\n",
    "plt.title('Histograma manual')\n",
    "#############################\n",
    "\n",
    "#### Histograma con Pandas ####\n",
    "plt.subplot(122)\n",
    "ax = plt.gca()\n",
    "data['Presión'].plot.hist(bins=bandas, alpha=0.6, ax = ax)\n",
    "_ = plt.title('Histograma Pandas')\n",
    "###############################\n",
    "plt.tight_layout()"
   ]
  },
  {
   "cell_type": "markdown",
   "metadata": {},
   "source": [
    "## 5. Preguntas de autoexplicación\n",
    "\n",
    "5.1. Describa, con sus propias palabras, el planteamiento del problema y cómo se resuelve en este ejemplo.\n",
    "\n",
    "5.2. La expresión $p(\\chi_k) \\approx \\frac{M_k}{N}$ relaciona la probabilidad $p(\\chi_k)$ de obtener una observación en el intervalo identificado con $\\chi_k$, con los valores determinados para la distribución de frecuencias $\\frac{M_k}{N}$. Describa, con sus palabras, por qué esta aproximación es válida y cuándo deja de ser una aproximación para convertirse en un valor exacto (igualdad).\n",
    "\n",
    "5.3. Describa qué es una distribución normal, cómo se relaciona con una distribución gaussiana y realice una gráfica con la cual explique los diferentes parámetros de dicha distribución.\n",
    "\n",
    "5.4. Cuando la distribución de probabilidad de una muestra es normal, la media se puede calcular sumando los datos y dividiendo por el número de datos. Muestre un ejemplo (para otra distribución de probabilidad) donde la suma de lo datos divididas por su número sea diferente a la media y explique por qué ocurre dicha diferencia.\n",
    "\n",
    "5.5. En la solución de este ejemplo se presentaron cálculos realizados al aplicar los conceptos descritos en el ítem 2, sin embargo, también se muestran resultados obtenidos con una librería de *Python* llamada *Numpy*. Describa cómo calcula *Numpy* la media, desviación estándar y varianza de una cierta muestra.\n",
    "\n",
    "5.6. Interprete el resultado obtenido al utilizar el método *describe* de *Pandas*.\n",
    "\n",
    "5.7.  Describa cómo se obtuvieron cada una de las figuras e interprete dichas figuras.\n",
    "\n",
    "5.8. ¿Qué diferencias y similitudes observa entre el histograma manual y el histograma Pandas?"
   ]
  },
  {
   "cell_type": "markdown",
   "metadata": {},
   "source": [
    "End!"
   ]
  }
 ],
 "metadata": {
  "interpreter": {
   "hash": "ca3d29f37a1a1c4f5e7a988c75b7db15a8dc84e630022593e41cd81ca2ea4c4a"
  },
  "kernelspec": {
   "display_name": "Python 3.9.7 ('base')",
   "language": "python",
   "name": "python3"
  },
  "language_info": {
   "codemirror_mode": {
    "name": "ipython",
    "version": 3
   },
   "file_extension": ".py",
   "mimetype": "text/x-python",
   "name": "python",
   "nbconvert_exporter": "python",
   "pygments_lexer": "ipython3",
   "version": "3.9.7"
  },
  "orig_nbformat": 2
 },
 "nbformat": 4,
 "nbformat_minor": 2
}
