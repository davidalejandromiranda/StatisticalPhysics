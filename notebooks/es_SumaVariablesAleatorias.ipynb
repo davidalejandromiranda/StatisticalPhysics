{
 "metadata": {
  "language_info": {
   "codemirror_mode": {
    "name": "ipython",
    "version": 3
   },
   "file_extension": ".py",
   "mimetype": "text/x-python",
   "name": "python",
   "nbconvert_exporter": "python",
   "pygments_lexer": "ipython3",
   "version": "3.8.5-final"
  },
  "orig_nbformat": 2,
  "kernelspec": {
   "name": "python3",
   "display_name": "Python 3.8.5 64-bit ('nano2d': conda)",
   "metadata": {
    "interpreter": {
     "hash": "11c30410751dd0361e21175229341d7062346646289fac6551f885568f233392"
    }
   }
  }
 },
 "nbformat": 4,
 "nbformat_minor": 2,
 "cells": [
  {
   "source": [
    "# Suma de Variables Aleatorias y Teorema del Valor Central"
   ],
   "cell_type": "markdown",
   "metadata": {}
  },
  {
   "cell_type": "code",
   "execution_count": null,
   "metadata": {},
   "outputs": [],
   "source": [
    "import numpy as np\n",
    "import pandas as pd\n",
    "import matplotlib.pyplot as plt\n",
    "from scipy import stats"
   ]
  },
  {
   "cell_type": "code",
   "execution_count": null,
   "metadata": {},
   "outputs": [],
   "source": [
    "N = 1000\n",
    "data = pd.DataFrame([])\n",
    "ks = 0\n",
    "for n in [1, 2, 10, 30]:\n",
    "    ks += 1\n",
    "    nStr = 'n = ' +  str(n)\n",
    "    Xbar = []\n",
    "    for k in range(N):\n",
    "        Xbar.append(np.average(np.random.poisson(size=n)))\n",
    "    data[nStr] = Xbar\n",
    "    plt.subplot(2,2,ks)\n",
    "    data[nStr].plot.hist()\n",
    "    plt.title(nStr)"
   ]
  }
 ]
}